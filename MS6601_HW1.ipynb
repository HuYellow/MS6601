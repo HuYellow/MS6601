{
 "cells": [
  {
   "cell_type": "code",
   "execution_count": 1,
   "id": "5541e814",
   "metadata": {},
   "outputs": [
    {
     "data": {
      "image/png": "[encoded data removed]",
      "text/plain": [
       "<Figure size 432x288 with 1 Axes>"
      ]
     },
     "metadata": {
      "needs_background": "light"
     },
     "output_type": "display_data"
    }
   ],
   "source": [
    "import numpy as np\n",
    "import matplotlib.pyplot as plt\n",
    "\n",
    "# Set the sample size and simulation time\n",
    "n = 1000\n",
    "N = 500\n",
    "\n",
    "# Initialize an array to store the sample means\n",
    "sample_means = np.zeros(N)\n",
    "\n",
    "# Simulate the i.i.d. process\n",
    "for i in range(N):\n",
    "    X = np.random.normal(0, 1, n)\n",
    "    sample_means[i] = np.mean(X)\n",
    "\n",
    "# Plot the histogram\n",
    "plt.hist(sample_means, bins=50)\n",
    "plt.xlabel(\"Sample Mean\")\n",
    "plt.ylabel(\"Frequency\")\n",
    "plt.show()\n"
   ]
  },
  {
   "cell_type": "code",
   "execution_count": 2,
   "id": "89787bc3",
   "metadata": {},
   "outputs": [
    {
     "name": "stdout",
     "output_type": "stream",
     "text": [
      "Expectation of X(t): 0\n",
      "Variance of X(t): 2.7777777777777786\n",
      "(sigma_e)^2: 0.9999999999999998\n"
     ]
    }
   ],
   "source": [
    "import numpy as np\n",
    "\n",
    "# Define the parameters of the AR(1) process\n",
    "phi = 0.8\n",
    "sigma_e = 1  # initial value\n",
    "\n",
    "# Calculate the expectation of X(t)\n",
    "mu = 0  # since e(t) ~ N(0, (sigma_e)^2)\n",
    "\n",
    "# Calculate the variance of X(t)\n",
    "var = (sigma_e**2) / (1 - phi**2)\n",
    "\n",
    "# Set the variance of X(t) to 1\n",
    "sigma_e = np.sqrt((1 - phi**2) * var)\n",
    "\n",
    "print(\"Expectation of X(t):\", mu)\n",
    "print(\"Variance of X(t):\", var)\n",
    "print(\"(sigma_e)^2:\", sigma_e**2)"
   ]
  },
  {
   "cell_type": "code",
   "execution_count": 3,
   "id": "1a9cc39d",
   "metadata": {},
   "outputs": [
    {
     "data": {
      "image/png": "[encoded data removed]",
      "text/plain": [
       "<Figure size 432x288 with 1 Axes>"
      ]
     },
     "metadata": {
      "needs_background": "light"
     },
     "output_type": "display_data"
    }
   ],
   "source": [
    "import numpy as np\n",
    "import matplotlib.pyplot as plt\n",
    "\n",
    "# Define the parameters of the AR(1) process\n",
    "phi = 0.8\n",
    "sigma_e = 1\n",
    "\n",
    "# Set the sample size and simulation time\n",
    "n = 1000\n",
    "N = 500\n",
    "\n",
    "# Initialize an array to store the sample means\n",
    "sample_means = np.zeros(N)\n",
    "\n",
    "# Simulate the AR(1) process\n",
    "for i in range(N):\n",
    "    X = np.zeros(n)\n",
    "    X[0] = 0  # initial value\n",
    "    e = np.random.normal(0, sigma_e, n)\n",
    "    for t in range(1, n):\n",
    "        X[t] = phi * X[t-1] + e[t]\n",
    "    sample_means[i] = np.mean(X)\n",
    "\n",
    "# Plot the histogram\n",
    "plt.hist(sample_means, bins=50)\n",
    "plt.xlabel(\"Sample Mean\")\n",
    "plt.ylabel(\"Frequency\")\n",
    "plt.show()"
   ]
  },
  {
   "cell_type": "code",
   "execution_count": null,
   "id": "1b6d473a",
   "metadata": {},
   "outputs": [],
   "source": []
  }
 ],
 "metadata": {
  "celltoolbar": "Raw Cell Format",
  "kernelspec": {
   "display_name": "Python 3",
   "language": "python",
   "name": "python3"
  },
  "language_info": {
   "codemirror_mode": {
    "name": "ipython",
    "version": 3
   },
   "file_extension": ".py",
   "mimetype": "text/x-python",
   "name": "python",
   "nbconvert_exporter": "python",
   "pygments_lexer": "ipython3",
   "version": "3.8.8"
  }
 },
 "nbformat": 4,
 "nbformat_minor": 5
}
